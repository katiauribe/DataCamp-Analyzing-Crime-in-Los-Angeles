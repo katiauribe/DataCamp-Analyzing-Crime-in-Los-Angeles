{
 "cells": [
  {
   "cell_type": "markdown",
   "id": "31ab2131-3049-4d8d-b9dc-d195f72af27a",
   "metadata": {
    "tags": []
   },
   "source": [
    "![Los Angeles skyline](la_skyline.jpg)\n",
    "\n",
    "Los Angeles, California 😎. The City of Angels. Tinseltown. The Entertainment Capital of the World! \n",
    "\n",
    "Known for its warm weather, palm trees, sprawling coastline, and Hollywood, along with producing some of the most iconic films and songs. However, as with any highly populated city, it isn't always glamorous and there can be a large volume of crime. That's where you can help!\n",
    "\n",
    "You have been asked to support the Los Angeles Police Department (LAPD) by analyzing crime data to identify patterns in criminal behavior. They plan to use your insights to allocate resources effectively to tackle various crimes in different areas.\n",
    "\n",
    "## The Data\n",
    "\n",
    "They have provided you with a single dataset to use. A summary and preview are provided below.\n",
    "\n",
    "It is a modified version of the original data, which is publicly available from Los Angeles Open Data.\n",
    "\n",
    "# crimes.csv\n",
    "\n",
    "| Column     | Description              |\n",
    "|------------|--------------------------|\n",
    "| `'DR_NO'` | Division of Records Number: Official file number made up of a 2-digit year, area ID, and 5 digits. |\n",
    "| `'Date Rptd'` | Date reported - MM/DD/YYYY. |\n",
    "| `'DATE OCC'` | Date of occurrence - MM/DD/YYYY. |\n",
    "| `'TIME OCC'` | In 24-hour military time. |\n",
    "| `'AREA NAME'` | The 21 Geographic Areas or Patrol Divisions are also given a name designation that references a landmark or the surrounding community that it is responsible for. For example, the 77th Street Division is located at the intersection of South Broadway and 77th Street, serving neighborhoods in South Los Angeles. |\n",
    "| `'Crm Cd Desc'` | Indicates the crime committed. |\n",
    "| `'Vict Age'` | Victim's age in years. |\n",
    "| `'Vict Sex'` | Victim's sex: `F`: Female, `M`: Male, `X`: Unknown. |\n",
    "| `'Vict Descent'` | Victim's descent:<ul><li>`A` - Other Asian</li><li>`B` - Black</li><li>`C` - Chinese</li><li>`D` - Cambodian</li><li>`F` - Filipino</li><li>`G` - Guamanian</li><li>`H` - Hispanic/Latin/Mexican</li><li>`I` - American Indian/Alaskan Native</li><li>`J` - Japanese</li><li>`K` - Korean</li><li>`L` - Laotian</li><li>`O` - Other</li><li>`P` - Pacific Islander</li><li>`S` - Samoan</li><li>`U` - Hawaiian</li><li>`V` - Vietnamese</li><li>`W` - White</li><li>`X` - Unknown</li><li>`Z` - Asian Indian</li> |\n",
    "| `'Weapon Desc'` | Description of the weapon used (if applicable). |\n",
    "| `'Status Desc'` | Crime status. |\n",
    "| `'LOCATION'` | Street address of the crime. |\n",
    "    \n",
    "(Source: DataCamp)"
   ]
  },
  {
   "cell_type": "code",
   "execution_count": 2,
   "id": "7c6c3c36-5c8b-4cce-8681-95292b8f0861",
   "metadata": {
    "executionCancelledAt": null,
    "executionTime": 351,
    "lastExecutedAt": 1727088462178,
    "lastExecutedByKernel": "7ffa3670-74fd-4f9b-a8e1-c87f3278a38e",
    "lastScheduledRunId": null,
    "lastSuccessfullyExecutedCode": "# Re-run this cell\n# Import required libraries\nimport pandas as pd\nimport numpy as np\nimport matplotlib.pyplot as plt\nimport seaborn as sns\ncrimes = pd.read_csv(\"crimes.csv\", parse_dates=[\"Date Rptd\", \"DATE OCC\"], dtype={\"TIME OCC\": str})\ncrimes.head()",
    "outputsMetadata": {
     "0": {
      "height": 222,
      "type": "dataFrame"
     }
    },
    "tags": []
   },
   "outputs": [
    {
     "data": {
      "text/html": [
       "<div>\n",
       "<style scoped>\n",
       "    .dataframe tbody tr th:only-of-type {\n",
       "        vertical-align: middle;\n",
       "    }\n",
       "\n",
       "    .dataframe tbody tr th {\n",
       "        vertical-align: top;\n",
       "    }\n",
       "\n",
       "    .dataframe thead th {\n",
       "        text-align: right;\n",
       "    }\n",
       "</style>\n",
       "<table border=\"1\" class=\"dataframe\">\n",
       "  <thead>\n",
       "    <tr style=\"text-align: right;\">\n",
       "      <th></th>\n",
       "      <th>DR_NO</th>\n",
       "      <th>Date Rptd</th>\n",
       "      <th>DATE OCC</th>\n",
       "      <th>TIME OCC</th>\n",
       "      <th>AREA NAME</th>\n",
       "      <th>Crm Cd Desc</th>\n",
       "      <th>Vict Age</th>\n",
       "      <th>Vict Sex</th>\n",
       "      <th>Vict Descent</th>\n",
       "      <th>Weapon Desc</th>\n",
       "      <th>Status Desc</th>\n",
       "      <th>LOCATION</th>\n",
       "    </tr>\n",
       "  </thead>\n",
       "  <tbody>\n",
       "    <tr>\n",
       "      <th>0</th>\n",
       "      <td>221515797</td>\n",
       "      <td>2022-10-06</td>\n",
       "      <td>2022-09-12</td>\n",
       "      <td>1600</td>\n",
       "      <td>N Hollywood</td>\n",
       "      <td>THEFT OF IDENTITY</td>\n",
       "      <td>59</td>\n",
       "      <td>F</td>\n",
       "      <td>B</td>\n",
       "      <td>NaN</td>\n",
       "      <td>Invest Cont</td>\n",
       "      <td>5600    COLFAX                       AV</td>\n",
       "    </tr>\n",
       "    <tr>\n",
       "      <th>1</th>\n",
       "      <td>230106978</td>\n",
       "      <td>2023-02-12</td>\n",
       "      <td>2023-02-11</td>\n",
       "      <td>1200</td>\n",
       "      <td>Central</td>\n",
       "      <td>BURGLARY FROM VEHICLE</td>\n",
       "      <td>28</td>\n",
       "      <td>M</td>\n",
       "      <td>H</td>\n",
       "      <td>NaN</td>\n",
       "      <td>Invest Cont</td>\n",
       "      <td>200 S  SPRING                       ST</td>\n",
       "    </tr>\n",
       "    <tr>\n",
       "      <th>2</th>\n",
       "      <td>231205775</td>\n",
       "      <td>2023-01-31</td>\n",
       "      <td>2023-01-26</td>\n",
       "      <td>1230</td>\n",
       "      <td>77th Street</td>\n",
       "      <td>BATTERY - SIMPLE ASSAULT</td>\n",
       "      <td>17</td>\n",
       "      <td>F</td>\n",
       "      <td>H</td>\n",
       "      <td>STRONG-ARM (HANDS, FIST, FEET OR BODILY FORCE)</td>\n",
       "      <td>Invest Cont</td>\n",
       "      <td>800 W  60TH                         ST</td>\n",
       "    </tr>\n",
       "    <tr>\n",
       "      <th>3</th>\n",
       "      <td>220221999</td>\n",
       "      <td>2022-12-21</td>\n",
       "      <td>2022-12-20</td>\n",
       "      <td>1930</td>\n",
       "      <td>Rampart</td>\n",
       "      <td>BURGLARY FROM VEHICLE</td>\n",
       "      <td>65</td>\n",
       "      <td>F</td>\n",
       "      <td>B</td>\n",
       "      <td>NaN</td>\n",
       "      <td>Invest Cont</td>\n",
       "      <td>1000    INGRAHAM                     ST</td>\n",
       "    </tr>\n",
       "    <tr>\n",
       "      <th>4</th>\n",
       "      <td>221321040</td>\n",
       "      <td>2022-11-15</td>\n",
       "      <td>2022-11-15</td>\n",
       "      <td>0830</td>\n",
       "      <td>Newton</td>\n",
       "      <td>ASSAULT WITH DEADLY WEAPON, AGGRAVATED ASSAULT</td>\n",
       "      <td>45</td>\n",
       "      <td>F</td>\n",
       "      <td>H</td>\n",
       "      <td>VEHICLE</td>\n",
       "      <td>Invest Cont</td>\n",
       "      <td>FLORENCE                     AV</td>\n",
       "    </tr>\n",
       "  </tbody>\n",
       "</table>\n",
       "</div>"
      ],
      "text/plain": [
       "       DR_NO  Date Rptd   DATE OCC TIME OCC    AREA NAME  \\\n",
       "0  221515797 2022-10-06 2022-09-12     1600  N Hollywood   \n",
       "1  230106978 2023-02-12 2023-02-11     1200      Central   \n",
       "2  231205775 2023-01-31 2023-01-26     1230  77th Street   \n",
       "3  220221999 2022-12-21 2022-12-20     1930      Rampart   \n",
       "4  221321040 2022-11-15 2022-11-15     0830       Newton   \n",
       "\n",
       "                                      Crm Cd Desc  Vict Age Vict Sex  \\\n",
       "0                               THEFT OF IDENTITY        59        F   \n",
       "1                           BURGLARY FROM VEHICLE        28        M   \n",
       "2                        BATTERY - SIMPLE ASSAULT        17        F   \n",
       "3                           BURGLARY FROM VEHICLE        65        F   \n",
       "4  ASSAULT WITH DEADLY WEAPON, AGGRAVATED ASSAULT        45        F   \n",
       "\n",
       "  Vict Descent                                     Weapon Desc  Status Desc  \\\n",
       "0            B                                             NaN  Invest Cont   \n",
       "1            H                                             NaN  Invest Cont   \n",
       "2            H  STRONG-ARM (HANDS, FIST, FEET OR BODILY FORCE)  Invest Cont   \n",
       "3            B                                             NaN  Invest Cont   \n",
       "4            H                                         VEHICLE  Invest Cont   \n",
       "\n",
       "                                  LOCATION  \n",
       "0  5600    COLFAX                       AV  \n",
       "1   200 S  SPRING                       ST  \n",
       "2   800 W  60TH                         ST  \n",
       "3  1000    INGRAHAM                     ST  \n",
       "4          FLORENCE                     AV  "
      ]
     },
     "execution_count": 2,
     "metadata": {},
     "output_type": "execute_result"
    }
   ],
   "source": [
    "# Re-run this cell\n",
    "# Import required libraries\n",
    "import pandas as pd\n",
    "import numpy as np\n",
    "import matplotlib.pyplot as plt\n",
    "import seaborn as sns\n",
    "crimes = pd.read_csv(\"crimes.csv\", parse_dates=[\"Date Rptd\", \"DATE OCC\"], dtype={\"TIME OCC\": str})\n",
    "crimes.head()"
   ]
  },
  {
   "cell_type": "code",
   "execution_count": 3,
   "id": "53eada96-447c-46c3-9848-f4ca3de53d06",
   "metadata": {
    "executionCancelledAt": null,
    "executionTime": 155,
    "lastExecutedAt": 1727088462333,
    "lastExecutedByKernel": "7ffa3670-74fd-4f9b-a8e1-c87f3278a38e",
    "lastScheduledRunId": null,
    "lastSuccessfullyExecutedCode": "# Which hour has the highest frequency of crimes?\ncrimes['TIME OCC'] = crimes['TIME OCC'].str[:2] + ':' + crimes['TIME OCC'].str[2:]\ncrimes['TIME OCC'] = pd.to_datetime(crimes['TIME OCC'], format='%H:%M')\ncrimes['hour'] = crimes['TIME OCC'].dt.hour\npeak_crime_hour = crimes['hour'].value_counts().index[0]\nprint(peak_crime_hour)",
    "outputsMetadata": {
     "0": {
      "height": 38,
      "type": "stream"
     }
    }
   },
   "outputs": [
    {
     "name": "stdout",
     "output_type": "stream",
     "text": [
      "12\n"
     ]
    }
   ],
   "source": [
    "# Which hour has the highest frequency of crimes?\n",
    "crimes['TIME OCC'] = crimes['TIME OCC'].str[:2] + ':' + crimes['TIME OCC'].str[2:]\n",
    "crimes['TIME OCC'] = pd.to_datetime(crimes['TIME OCC'], format='%H:%M')\n",
    "crimes['hour'] = crimes['TIME OCC'].dt.hour\n",
    "peak_crime_hour = crimes['hour'].value_counts().index[0]\n",
    "print(peak_crime_hour)"
   ]
  },
  {
   "cell_type": "code",
   "execution_count": 4,
   "id": "3187eb4b-67b2-4efb-a342-897e19a68e7f",
   "metadata": {
    "executionCancelledAt": null,
    "executionTime": 50,
    "lastExecutedAt": 1727088462383,
    "lastExecutedByKernel": "7ffa3670-74fd-4f9b-a8e1-c87f3278a38e",
    "lastScheduledRunId": null,
    "lastSuccessfullyExecutedCode": "# Which area has the largest frequency of night crimes (crimes committed between 10pm and 3:59am)?\nnight_crimes = crimes[(crimes['hour'] >= 22) | (crimes['hour'] <= 3)]\npeak_night_crime_location = night_crimes['AREA NAME'].value_counts().index[0]\nprint(peak_night_crime_location)",
    "outputsMetadata": {
     "0": {
      "height": 38,
      "type": "stream"
     }
    }
   },
   "outputs": [
    {
     "name": "stdout",
     "output_type": "stream",
     "text": [
      "Central\n"
     ]
    }
   ],
   "source": [
    "# Which area has the largest frequency of night crimes (crimes committed between 10pm and 3:59am)?\n",
    "night_crimes = crimes[(crimes['hour'] >= 22) | (crimes['hour'] <= 3)]\n",
    "peak_night_crime_location = night_crimes['AREA NAME'].value_counts().index[0]\n",
    "print(peak_night_crime_location)"
   ]
  },
  {
   "cell_type": "code",
   "execution_count": 5,
   "id": "0a0e57b8-d677-40a0-87ce-3ad80def1474",
   "metadata": {
    "executionCancelledAt": null,
    "executionTime": 53,
    "lastExecutedAt": 1727088462436,
    "lastExecutedByKernel": "7ffa3670-74fd-4f9b-a8e1-c87f3278a38e",
    "lastScheduledRunId": null,
    "lastSuccessfullyExecutedCode": "# Identify the number of crimes committed against victims of different age groups.\nage_groups = ['0-17', '18-25', '26-34', '35-44', '45-54', '55-64', '65+']\nage_bins = [0, 17, 25, 34, 44, 54, 64, crimes['Vict Age'].max()]\ncrimes['vict age groups'] = pd.cut(crimes['Vict Age'], labels=age_groups, bins=age_bins, include_lowest=True)\nvictim_ages = crimes['vict age groups'].value_counts()\nprint(victim_ages)",
    "outputsMetadata": {
     "0": {
      "height": 185,
      "type": "stream"
     }
    },
    "tags": []
   },
   "outputs": [
    {
     "name": "stdout",
     "output_type": "stream",
     "text": [
      "vict age groups\n",
      "26-34    42153\n",
      "35-44    37355\n",
      "18-25    25228\n",
      "45-54    25217\n",
      "55-64    18004\n",
      "65+      13017\n",
      "0-17      4026\n",
      "Name: count, dtype: int64\n"
     ]
    }
   ],
   "source": [
    "# Identify the number of crimes committed against victims of different age groups.\n",
    "age_groups = ['0-17', '18-25', '26-34', '35-44', '45-54', '55-64', '65+']\n",
    "age_bins = [0, 17, 25, 34, 44, 54, 64, crimes['Vict Age'].max()]\n",
    "crimes['vict age groups'] = pd.cut(crimes['Vict Age'], labels=age_groups, bins=age_bins, include_lowest=True)\n",
    "victim_ages = crimes['vict age groups'].value_counts()\n",
    "print(victim_ages)"
   ]
  }
 ],
 "metadata": {
  "colab": {
   "name": "Welcome to DataCamp Workspaces.ipynb",
   "provenance": []
  },
  "kernelspec": {
   "display_name": "Python 3 (ipykernel)",
   "language": "python",
   "name": "python3"
  },
  "language_info": {
   "codemirror_mode": {
    "name": "ipython",
    "version": 3
   },
   "file_extension": ".py",
   "mimetype": "text/x-python",
   "name": "python",
   "nbconvert_exporter": "python",
   "pygments_lexer": "ipython3",
   "version": "3.11.7"
  }
 },
 "nbformat": 4,
 "nbformat_minor": 5
}
